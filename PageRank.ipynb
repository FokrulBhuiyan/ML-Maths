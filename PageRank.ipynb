{
  "nbformat": 4,
  "nbformat_minor": 0,
  "metadata": {
    "coursera": {
      "course_slug": "linear-algebra-machine-learning",
      "graded_item_id": "Sfbnp",
      "launcher_item_id": "aPxf3"
    },
    "kernelspec": {
      "display_name": "Python 3",
      "language": "python",
      "name": "python3"
    },
    "language_info": {
      "codemirror_mode": {
        "name": "ipython",
        "version": 3
      },
      "file_extension": ".py",
      "mimetype": "text/x-python",
      "name": "python",
      "nbconvert_exporter": "python",
      "pygments_lexer": "ipython3",
      "version": "3.6.2"
    },
    "colab": {
      "name": "PageRank.ipynb",
      "provenance": [],
      "include_colab_link": true
    }
  },
  "cells": [
    {
      "cell_type": "markdown",
      "metadata": {
        "id": "view-in-github",
        "colab_type": "text"
      },
      "source": [
        "<a href=\"https://colab.research.google.com/github/FokrulBhuiyan/ML-Maths/blob/main/PageRank.ipynb\" target=\"_parent\"><img src=\"https://colab.research.google.com/assets/colab-badge.svg\" alt=\"Open In Colab\"/></a>"
      ]
    },
    {
      "cell_type": "markdown",
      "metadata": {
        "collapsed": true,
        "id": "Hl6xl_NebjFh"
      },
      "source": [
        "# PageRank\n",
        "In this notebook, you'll build on your knowledge of eigenvectors and eigenvalues by exploring the PageRank algorithm.\n",
        "The notebook is in two parts, the first is a worksheet to get you up to speed with how the algorithm works - here we will look at a micro-internet with fewer than 10 websites and see what it does and what can go wrong.\n",
        "The second is an assessment which will test your application of eigentheory to this problem by writing code and calculating the page rank of a large network representing a sub-section of the internet."
      ]
    },
    {
      "cell_type": "markdown",
      "metadata": {
        "id": "V4KQG8YsbjFm"
      },
      "source": [
        "## Part 1 - Worksheet\n",
        "### Introduction\n",
        "\n",
        "PageRank (developed by Larry Page and Sergey Brin) revolutionized web search by generating a\n",
        "ranked list of web pages based on the underlying connectivity of the web. The PageRank algorithm is\n",
        "based on an ideal random web surfer who, when reaching a page, goes to the next page by clicking on a\n",
        "link. The surfer has equal probability of clicking any link on the page and, when reaching a page with no\n",
        "links, has equal probability of moving to any other page by typing in its URL. In addition, the surfer may\n",
        "occasionally choose to type in a random URL instead of following the links on a page. The PageRank is\n",
        "the ranked order of the pages from the most to the least probable page the surfer will be viewing.\n"
      ]
    },
    {
      "cell_type": "code",
      "metadata": {
        "id": "m4xTpBK0bjFn",
        "outputId": "a29a4d79-7182-4564-8b92-3260db976b68"
      },
      "source": [
        "# Before we begin, let's load the libraries.\n",
        "%pylab notebook\n",
        "import numpy as np\n",
        "import numpy.linalg as la\n",
        "from readonly.PageRankFunctions import *\n",
        "np.set_printoptions(suppress=True)"
      ],
      "execution_count": null,
      "outputs": [
        {
          "output_type": "stream",
          "text": [
            "Populating the interactive namespace from numpy and matplotlib\n"
          ],
          "name": "stdout"
        }
      ]
    },
    {
      "cell_type": "markdown",
      "metadata": {
        "id": "e-WciGTibjFq"
      },
      "source": [
        "### PageRank as a linear algebra problem\n",
        "Let's imagine a micro-internet, with just 6 websites (**A**vocado, **B**ullseye, **C**atBabel, **D**romeda, **e**Tings, and **F**aceSpace).\n",
        "Each website links to some of the others, and this forms a network as shown,\n",
        "\n",
        "![A Micro-Internet](readonly/internet.png \"A Micro-Internet\")\n",
        "\n",
        "The design principle of PageRank is that important websites will be linked to by important websites.\n",
        "This somewhat recursive principle will form the basis of our thinking.\n",
        "\n",
        "Imagine we have 100 *Procrastinating Pat*s on our micro-internet, each viewing a single website at a time.\n",
        "Each minute the Pats follow a link on their website to another site on the micro-internet.\n",
        "After a while, the websites that are most linked to will have more Pats visiting them, and in the long run, each minute for every Pat that leaves a website, another will enter keeping the total numbers of Pats on each website constant.\n",
        "The PageRank is simply the ranking of websites by how many Pats they have on them at the end of this process.\n",
        "\n",
        "We represent the number of Pats on each website with the vector,\n",
        "$$\\mathbf{r} = \\begin{bmatrix} r_A \\\\ r_B \\\\ r_C \\\\ r_D \\\\ r_E \\\\ r_F \\end{bmatrix}$$\n",
        "And say that the number of Pats on each website in minute $i+1$ is related to those at minute $i$ by the matrix transformation\n",
        "\n",
        "$$ \\mathbf{r}^{(i+1)} = L \\,\\mathbf{r}^{(i)}$$\n",
        "with the matrix $L$ taking the form,\n",
        "$$ L = \\begin{bmatrix}\n",
        "L_{A→A} & L_{B→A} & L_{C→A} & L_{D→A} & L_{E→A} & L_{F→A} \\\\\n",
        "L_{A→B} & L_{B→B} & L_{C→B} & L_{D→B} & L_{E→B} & L_{F→B} \\\\\n",
        "L_{A→C} & L_{B→C} & L_{C→C} & L_{D→C} & L_{E→C} & L_{F→C} \\\\\n",
        "L_{A→D} & L_{B→D} & L_{C→D} & L_{D→D} & L_{E→D} & L_{F→D} \\\\\n",
        "L_{A→E} & L_{B→E} & L_{C→E} & L_{D→E} & L_{E→E} & L_{F→E} \\\\\n",
        "L_{A→F} & L_{B→F} & L_{C→F} & L_{D→F} & L_{E→F} & L_{F→F} \\\\\n",
        "\\end{bmatrix}\n",
        "$$\n",
        "where the columns represent the probability of leaving a website for any other website, and sum to one.\n",
        "The rows determine how likely you are to enter a website from any other, though these need not add to one.\n",
        "The long time behaviour of this system is when $ \\mathbf{r}^{(i+1)} = \\mathbf{r}^{(i)}$, so we'll drop the superscripts here, and that allows us to write,\n",
        "$$ L \\,\\mathbf{r} = \\mathbf{r}$$\n",
        "\n",
        "which is an eigenvalue equation for the matrix $L$, with eigenvalue 1 (this is guaranteed by the probabalistic structure of the matrix $L$).\n",
        "\n",
        "Complete the matrix $L$ below, we've left out the column for which websites the *FaceSpace* website (F) links to.\n",
        "Remember, this is the probability to click on another website from this one, so each column should add to one (by scaling by the number of links)."
      ]
    },
    {
      "cell_type": "code",
      "metadata": {
        "collapsed": true,
        "id": "As1jPv1sbjF2"
      },
      "source": [
        "# Replace the ??? here with the probability of clicking a link to each website when leaving Website F (FaceSpace).\n",
        "L = np.array([[0,   1/2, 1/3, 0, 0,   0 ],\n",
        "              [1/3, 0,   0,   0, 1/2, 0 ],\n",
        "              [1/3, 1/2, 0,   1, 0,   1/2 ],\n",
        "              [1/3, 0,   1/3, 0, 1/2, 1/2 ],\n",
        "              [0,   0,   0,   0, 0,   0 ],\n",
        "              [0,   0,   1/3, 0, 0,   0 ]])"
      ],
      "execution_count": null,
      "outputs": []
    },
    {
      "cell_type": "markdown",
      "metadata": {
        "id": "sSs0cL7DbjF2"
      },
      "source": [
        "In principle, we could use a linear algebra library, as below, to calculate the eigenvalues and vectors.\n",
        "And this would work for a small system. But this gets unmanagable for large systems.\n",
        "And since we only care about the principal eigenvector (the one with the largest eigenvalue, which will be 1 in this case), we can use the *power iteration method* which will scale better, and is faster for large systems.\n",
        "\n",
        "Use the code below to peek at the PageRank for this micro-internet."
      ]
    },
    {
      "cell_type": "code",
      "metadata": {
        "id": "z1bY3vSnbjF3",
        "outputId": "7015eece-44f4-49f2-ba22-b92e6e821cc6"
      },
      "source": [
        "eVals, eVecs = la.eig(L) # Gets the eigenvalues and vectors\n",
        "order = np.absolute(eVals).argsort()[::-1] # Orders them by their eigenvalues\n",
        "eVals = eVals[order]\n",
        "eVecs = eVecs[:,order]\n",
        "\n",
        "r = eVecs[:, 0] # Sets r to be the principal eigenvector\n",
        "100 * np.real(r / np.sum(r)) # Make this eigenvector sum to one, then multiply by 100 Procrastinating Pats"
      ],
      "execution_count": null,
      "outputs": [
        {
          "output_type": "execute_result",
          "data": {
            "text/plain": [
              "array([ 16.        ,   5.33333333,  40.        ,  25.33333333,\n",
              "         0.        ,  13.33333333])"
            ]
          },
          "metadata": {
            "tags": []
          },
          "execution_count": 5
        }
      ]
    },
    {
      "cell_type": "markdown",
      "metadata": {
        "id": "p-A_dnKAbjF4"
      },
      "source": [
        "We can see from this list, the number of Procrastinating Pats that we expect to find on each website after long times.\n",
        "Putting them in order of *popularity* (based on this metric), the PageRank of this micro-internet is:\n",
        "\n",
        "**C**atBabel, **D**romeda, **A**vocado, **F**aceSpace, **B**ullseye, **e**Tings\n",
        "\n",
        "Referring back to the micro-internet diagram, is this what you would have expected?\n",
        "Convince yourself that based on which pages seem important given which others link to them, that this is a sensible ranking.\n",
        "\n",
        "Let's now try to get the same result using the Power-Iteration method that was covered in the video.\n",
        "This method will be much better at dealing with large systems.\n",
        "\n",
        "First let's set up our initial vector, $\\mathbf{r}^{(0)}$, so that we have our 100 Procrastinating Pats equally distributed on each of our 6 websites."
      ]
    },
    {
      "cell_type": "code",
      "metadata": {
        "id": "EVfihkvIbjF4",
        "outputId": "8f08f347-096c-46fa-91e8-d9eefd5a637b"
      },
      "source": [
        "r = 100 * np.ones(6) / 6 # Sets up this vector (6 entries of 1/6 × 100 each)\n",
        "r # Shows it's value"
      ],
      "execution_count": null,
      "outputs": [
        {
          "output_type": "execute_result",
          "data": {
            "text/plain": [
              "array([ 16.66666667,  16.66666667,  16.66666667,  16.66666667,\n",
              "        16.66666667,  16.66666667])"
            ]
          },
          "metadata": {
            "tags": []
          },
          "execution_count": 6
        }
      ]
    },
    {
      "cell_type": "markdown",
      "metadata": {
        "id": "a57I3mtibjF5"
      },
      "source": [
        "Next, let's update the vector to the next minute, with the matrix $L$.\n",
        "Run the following cell multiple times, until the answer stabilises."
      ]
    },
    {
      "cell_type": "code",
      "metadata": {
        "id": "hiz009Y6bjF5",
        "outputId": "beb84ffe-078d-4d04-c345-ea1c59befa4c"
      },
      "source": [
        "r = L @ r # Apply matrix L to r\n",
        "r # Show it's value\n",
        "# Re-run this cell multiple times to converge to the correct answer."
      ],
      "execution_count": null,
      "outputs": [
        {
          "output_type": "execute_result",
          "data": {
            "text/plain": [
              "array([ 13.88888889,  13.88888889,  38.88888889,  27.77777778,\n",
              "         0.        ,   5.55555556])"
            ]
          },
          "metadata": {
            "tags": []
          },
          "execution_count": 7
        }
      ]
    },
    {
      "cell_type": "markdown",
      "metadata": {
        "id": "NuxDKO76bjF6"
      },
      "source": [
        "We can automate applying this matrix multiple times as follows,"
      ]
    },
    {
      "cell_type": "code",
      "metadata": {
        "id": "lBWYULBHbjF6",
        "outputId": "a1bba004-f315-4bc2-9ff5-7f3e898576aa"
      },
      "source": [
        "r = 100 * np.ones(6) / 6 # Sets up this vector (6 entries of 1/6 × 100 each)\n",
        "for i in np.arange(100) : # Repeat 100 times\n",
        "    r = L @ r\n",
        "r"
      ],
      "execution_count": null,
      "outputs": [
        {
          "output_type": "execute_result",
          "data": {
            "text/plain": [
              "array([ 16.        ,   5.33333333,  40.        ,  25.33333333,\n",
              "         0.        ,  13.33333333])"
            ]
          },
          "metadata": {
            "tags": []
          },
          "execution_count": 8
        }
      ]
    },
    {
      "cell_type": "markdown",
      "metadata": {
        "id": "z6NRbOiVbjF6"
      },
      "source": [
        "Or even better, we can keep running until we get to the required tolerance."
      ]
    },
    {
      "cell_type": "code",
      "metadata": {
        "id": "0uVU3mGVbjF7",
        "outputId": "1d0883f1-25b5-490a-960d-b3406cc6f897"
      },
      "source": [
        "r = 100 * np.ones(6) / 6 # Sets up this vector (6 entries of 1/6 × 100 each)\n",
        "lastR = r\n",
        "r = L @ r\n",
        "i = 0\n",
        "while la.norm(lastR - r) > 0.01 :\n",
        "    lastR = r\n",
        "    r = L @ r\n",
        "    i += 1\n",
        "print(str(i) + \" iterations to convergence.\")\n",
        "r"
      ],
      "execution_count": null,
      "outputs": [
        {
          "output_type": "stream",
          "text": [
            "18 iterations to convergence.\n"
          ],
          "name": "stdout"
        },
        {
          "output_type": "execute_result",
          "data": {
            "text/plain": [
              "array([ 16.00149917,   5.33252025,  39.99916911,  25.3324738 ,\n",
              "         0.        ,  13.33433767])"
            ]
          },
          "metadata": {
            "tags": []
          },
          "execution_count": 9
        }
      ]
    },
    {
      "cell_type": "markdown",
      "metadata": {
        "id": "EboQlO5dbjF7"
      },
      "source": [
        "See how the PageRank order is established fairly quickly, and the vector converges on the value we calculated earlier after a few tens of repeats.\n",
        "\n",
        "Congratulations! You've just calculated your first PageRank!"
      ]
    },
    {
      "cell_type": "markdown",
      "metadata": {
        "id": "a6b3haupbjF7"
      },
      "source": [
        "### Damping Parameter\n",
        "The system we just studied converged fairly quickly to the correct answer.\n",
        "Let's consider an extension to our micro-internet where things start to go wrong.\n",
        "\n",
        "Say a new website is added to the micro-internet: *Geoff's* Website.\n",
        "This website is linked to by *FaceSpace* and only links to itself.\n",
        "![An Expanded Micro-Internet](readonly/internet2.png \"An Expanded Micro-Internet\")\n",
        "\n",
        "Intuitively, only *FaceSpace*, which is in the bottom half of the page rank, links to this website amongst the two others it links to,\n",
        "so we might expect *Geoff's* site to have a correspondingly low PageRank score.\n",
        "\n",
        "Build the new $L$ matrix for the expanded micro-internet, and use Power-Iteration on the Procrastinating Pat vector.\n",
        "See what happens…"
      ]
    },
    {
      "cell_type": "code",
      "metadata": {
        "collapsed": true,
        "id": "zmMZSFdlbjF8"
      },
      "source": [
        " # We'll call this one L2, to distinguish it from the previous L.\n",
        "L2 = np.array([[0,   1/2, 1/3, 0, 0,   0, 0 ],\n",
        "               [1/3, 0,   0,   0, 1/2, 0, 0 ],\n",
        "               [1/3, 1/2, 0,   1, 0,   1/3, 0 ],\n",
        "               [1/3, 0,   1/3, 0, 1/2, 1/3, 0 ],\n",
        "               [0,   0,   0,   0, 0,   0, 0 ],\n",
        "               [0,   0,   1/3, 0, 0,   0, 0 ],\n",
        "               [0,   0,   0,   0, 0,   1/3, 1 ]])"
      ],
      "execution_count": null,
      "outputs": []
    },
    {
      "cell_type": "code",
      "metadata": {
        "id": "JQf-s6SpbjF8",
        "outputId": "d4d5bc8b-95b3-42b3-a14e-2a2db6672a54"
      },
      "source": [
        "r = 100 * np.ones(7) / 7 # Sets up this vector (6 entries of 1/6 × 100 each)\n",
        "lastR = r\n",
        "r = L2 @ r\n",
        "i = 0\n",
        "while la.norm(lastR - r) > 0.01 :\n",
        "    lastR = r\n",
        "    r = L2 @ r\n",
        "    i += 1\n",
        "print(str(i) + \" iterations to convergence.\")\n",
        "r"
      ],
      "execution_count": null,
      "outputs": [
        {
          "output_type": "stream",
          "text": [
            "131 iterations to convergence.\n"
          ],
          "name": "stdout"
        },
        {
          "output_type": "execute_result",
          "data": {
            "text/plain": [
              "array([  0.03046998,   0.01064323,   0.07126612,   0.04423198,\n",
              "         0.        ,   0.02489342,  99.81849527])"
            ]
          },
          "metadata": {
            "tags": []
          },
          "execution_count": 11
        }
      ]
    },
    {
      "cell_type": "markdown",
      "metadata": {
        "id": "uiH9HfplbjF8"
      },
      "source": [
        "That's no good! *Geoff* seems to be taking all the traffic on the micro-internet, and somehow coming at the top of the PageRank.\n",
        "This behaviour can be understood, because once a Pat get's to *Geoff's* Website, they can't leave, as all links head back to Geoff.\n",
        "\n",
        "To combat this, we can add a small probability that the Procrastinating Pats don't follow any link on a webpage, but instead visit a website on the micro-internet at random.\n",
        "We'll say the probability of them following a link is $d$ and the probability of choosing a random website is therefore $1-d$.\n",
        "We can use a new matrix to work out where the Pat's visit each minute.\n",
        "$$ M = d \\, L + \\frac{1-d}{n} \\, J $$\n",
        "where $J$ is an $n\\times n$ matrix where every element is one.\n",
        "\n",
        "If $d$ is one, we have the case we had previously, whereas if $d$ is zero, we will always visit a random webpage and therefore all webpages will be equally likely and equally ranked.\n",
        "For this extension to work best, $1-d$ should be somewhat small - though we won't go into a discussion about exactly how small.\n",
        "\n",
        "Let's retry this PageRank with this extension."
      ]
    },
    {
      "cell_type": "code",
      "metadata": {
        "collapsed": true,
        "id": "QllEmnurbjF9"
      },
      "source": [
        "d = 0.5 # Feel free to play with this parameter after running the code once.\n",
        "M = d * L2 + (1-d)/7 * np.ones([7, 7]) # np.ones() is the J matrix, with ones for each entry."
      ],
      "execution_count": null,
      "outputs": []
    },
    {
      "cell_type": "code",
      "metadata": {
        "id": "8XBcJeKYbjF9",
        "outputId": "ecead98a-2a1c-412f-9c34-40368777b109"
      },
      "source": [
        "r = 100 * np.ones(7) / 7 # Sets up this vector (6 entries of 1/6 × 100 each)\n",
        "lastR = r\n",
        "r = M @ r\n",
        "i = 0\n",
        "while la.norm(lastR - r) > 0.01 :\n",
        "    lastR = r\n",
        "    r = M @ r\n",
        "    i += 1\n",
        "print(str(i) + \" iterations to convergence.\")\n",
        "r"
      ],
      "execution_count": null,
      "outputs": [
        {
          "output_type": "stream",
          "text": [
            "8 iterations to convergence.\n"
          ],
          "name": "stdout"
        },
        {
          "output_type": "execute_result",
          "data": {
            "text/plain": [
              "array([ 13.68217054,  11.20902965,  22.41964343,  16.7593433 ,\n",
              "         7.14285714,  10.87976354,  17.90719239])"
            ]
          },
          "metadata": {
            "tags": []
          },
          "execution_count": 13
        }
      ]
    },
    {
      "cell_type": "markdown",
      "metadata": {
        "id": "gGUyNRkubjF-"
      },
      "source": [
        "This is certainly better, the PageRank gives sensible numbers for the Procrastinating Pats that end up on each webpage.\n",
        "This method still predicts Geoff has a high ranking webpage however.\n",
        "This could be seen as a consequence of using a small network. We could also get around the problem by not counting self-links when producing the L matrix (an if a website has no outgoing links, make it link to all websites equally).\n",
        "We won't look further down this route, as this is in the realm of improvements to PageRank, rather than eigenproblems.\n",
        "\n",
        "You are now in a good position, having gained an understanding of PageRank, to produce your own code to calculate the PageRank of a website with thousands of entries.\n",
        "\n",
        "Good Luck!"
      ]
    },
    {
      "cell_type": "markdown",
      "metadata": {
        "id": "As_kDlHtbjF-"
      },
      "source": [
        "## Part 2 - Assessment\n",
        "In this assessment, you will be asked to produce a function that can calculate the PageRank for an arbitrarily large probability matrix.\n",
        "This, the final assignment of the course, will give less guidance than previous assessments.\n",
        "You will be expected to utilise code from earlier in the worksheet and re-purpose it to your needs.\n",
        "\n",
        "### How to submit\n",
        "Edit the code in the cell below to complete the assignment.\n",
        "Once you are finished and happy with it, press the *Submit Assignment* button at the top of this notebook.\n",
        "\n",
        "Please don't change any of the function names, as these will be checked by the grading script.\n",
        "\n",
        "If you have further questions about submissions or programming assignments, here is a [list](https://www.coursera.org/learn/linear-algebra-machine-learning/discussions/weeks/1/threads/jB4klkn5EeibtBIQyzFmQg) of Q&A. You can also raise an issue on the discussion forum. Good luck!"
      ]
    },
    {
      "cell_type": "code",
      "metadata": {
        "collapsed": true,
        "id": "gL1fAXhUbjF-"
      },
      "source": [
        "# PACKAGE\n",
        "# Here are the imports again, just in case you need them.\n",
        "# There is no need to edit or submit this cell.\n",
        "import numpy as np\n",
        "import numpy.linalg as la\n",
        "from readonly.PageRankFunctions import *\n",
        "np.set_printoptions(suppress=True)"
      ],
      "execution_count": null,
      "outputs": []
    },
    {
      "cell_type": "code",
      "metadata": {
        "collapsed": true,
        "id": "l_AyA20GbjF_"
      },
      "source": [
        "# GRADED FUNCTION\n",
        "# Complete this function to provide the PageRank for an arbitrarily sized internet.\n",
        "# I.e. the principal eigenvector of the damped system, using the power iteration method.\n",
        "# (Normalisation doesn't matter here)\n",
        "# The functions inputs are the linkMatrix, and d the damping parameter - as defined in this worksheet.\n",
        "# (The damping parameter, d, will be set by the function - no need to set this yourself.)\n",
        "def pageRank(linkMatrix, d) :\n",
        "    n = linkMatrix.shape[0]\n",
        "    M = d * linkMatrix + (1-d)/n * np.ones([n,n]) \n",
        "    r = 100 * np.ones(n) / n\n",
        "    lastR = r\n",
        "    r = M @ r\n",
        "    i = 0\n",
        "    while la.norm(lastR - r) > 0.01 :\n",
        "        lastR = r\n",
        "        r = M @ r\n",
        "        i += 1\n",
        "    return r\n"
      ],
      "execution_count": null,
      "outputs": []
    },
    {
      "cell_type": "markdown",
      "metadata": {
        "id": "PE4j8CNzbjF_"
      },
      "source": [
        "## Test your code before submission\n",
        "To test the code you've written above, run the cell (select the cell above, then press the play button [ ▶| ] or press shift-enter).\n",
        "You can then use the code below to test out your function.\n",
        "You don't need to submit this cell; you can edit and run it as much as you like."
      ]
    },
    {
      "cell_type": "code",
      "metadata": {
        "id": "ObDgJ07VbjF_",
        "outputId": "81c9ff93-b387-4460-f61e-c1e780923105"
      },
      "source": [
        "# Use the following function to generate internets of different sizes.\n",
        "generate_internet(5)"
      ],
      "execution_count": null,
      "outputs": [
        {
          "output_type": "execute_result",
          "data": {
            "text/plain": [
              "array([[ 0.2,  0.2,  0. ,  0.2,  0. ],\n",
              "       [ 0.2,  0.2,  0. ,  0.2,  0. ],\n",
              "       [ 0.2,  0.2,  0. ,  0.2,  0. ],\n",
              "       [ 0.2,  0.2,  1. ,  0.2,  1. ],\n",
              "       [ 0.2,  0.2,  0. ,  0.2,  0. ]])"
            ]
          },
          "metadata": {
            "tags": []
          },
          "execution_count": 16
        }
      ]
    },
    {
      "cell_type": "code",
      "metadata": {
        "id": "JD4T_N1UbjF_"
      },
      "source": [
        "# Test your PageRank method against the built in \"eig\" method.\n",
        "# You should see yours is a lot faster for large internets\n",
        "L = generate_internet(10)"
      ],
      "execution_count": null,
      "outputs": []
    },
    {
      "cell_type": "code",
      "metadata": {
        "id": "JO6eJxvIbjGA",
        "outputId": "662211d8-709c-402c-a872-2a248be2b060"
      },
      "source": [
        "pageRank(L, 1)"
      ],
      "execution_count": null,
      "outputs": [
        {
          "output_type": "execute_result",
          "data": {
            "text/plain": [
              "array([  0.00088423,   0.00559081,   0.00245309,   0.0044598 ,\n",
              "        99.96999419,   0.00088423,   0.00088423,   0.00245309,\n",
              "         0.00994325,   0.00245309])"
            ]
          },
          "metadata": {
            "tags": []
          },
          "execution_count": 22
        }
      ]
    },
    {
      "cell_type": "code",
      "metadata": {
        "id": "pzZyv0dbbjGA",
        "outputId": "d7a3318d-c62a-4c8b-91b1-8683a48460e9"
      },
      "source": [
        "# Do note, this is calculating the eigenvalues of the link matrix, L,\n",
        "# without any damping. It may give different results that your pageRank function.\n",
        "# If you wish, you could modify this cell to include damping.\n",
        "# (There is no credit for this though)\n",
        "eVals, eVecs = la.eig(L) # Gets the eigenvalues and vectors\n",
        "order = np.absolute(eVals).argsort()[::-1] # Orders them by their eigenvalues\n",
        "eVals = eVals[order]\n",
        "eVecs = eVecs[:,order]\n",
        "\n",
        "r = eVecs[:, 0]\n",
        "100 * np.real(r / np.sum(r))"
      ],
      "execution_count": null,
      "outputs": [
        {
          "output_type": "execute_result",
          "data": {
            "text/plain": [
              "array([  0.00000002,   0.00000008,   0.00000004,   0.00000006,\n",
              "        99.99999956,   0.00000002,   0.00000002,   0.00000004,\n",
              "         0.00000012,   0.00000004])"
            ]
          },
          "metadata": {
            "tags": []
          },
          "execution_count": 23
        }
      ]
    },
    {
      "cell_type": "code",
      "metadata": {
        "id": "3Yx6bZpDbjGA",
        "outputId": "950eeb28-3098-4870-c83b-65a013c8cd51"
      },
      "source": [
        "# You may wish to view the PageRank graphically.\n",
        "# This code will draw a bar chart, for each (numbered) website on the generated internet,\n",
        "# The height of each bar will be the score in the PageRank.\n",
        "# Run this code to see the PageRank for each internet you generate.\n",
        "# Hopefully you should see what you might expect\n",
        "# - there are a few clusters of important websites, but most on the internet are rubbish!\n",
        "%pylab notebook\n",
        "r = pageRank(generate_internet(100), 0.9)\n",
        "plt.bar(arange(r.shape[0]), r);"
      ],
      "execution_count": null,
      "outputs": [
        {
          "output_type": "stream",
          "text": [
            "Populating the interactive namespace from numpy and matplotlib\n"
          ],
          "name": "stdout"
        },
        {
          "output_type": "display_data",
          "data": {
            "application/javascript": [
              "/* Put everything inside the global mpl namespace */\n",
              "window.mpl = {};\n",
              "\n",
              "\n",
              "mpl.get_websocket_type = function() {\n",
              "    if (typeof(WebSocket) !== 'undefined') {\n",
              "        return WebSocket;\n",
              "    } else if (typeof(MozWebSocket) !== 'undefined') {\n",
              "        return MozWebSocket;\n",
              "    } else {\n",
              "        alert('Your browser does not have WebSocket support.' +\n",
              "              'Please try Chrome, Safari or Firefox ≥ 6. ' +\n",
              "              'Firefox 4 and 5 are also supported but you ' +\n",
              "              'have to enable WebSockets in about:config.');\n",
              "    };\n",
              "}\n",
              "\n",
              "mpl.figure = function(figure_id, websocket, ondownload, parent_element) {\n",
              "    this.id = figure_id;\n",
              "\n",
              "    this.ws = websocket;\n",
              "\n",
              "    this.supports_binary = (this.ws.binaryType != undefined);\n",
              "\n",
              "    if (!this.supports_binary) {\n",
              "        var warnings = document.getElementById(\"mpl-warnings\");\n",
              "        if (warnings) {\n",
              "            warnings.style.display = 'block';\n",
              "            warnings.textContent = (\n",
              "                \"This browser does not support binary websocket messages. \" +\n",
              "                    \"Performance may be slow.\");\n",
              "        }\n",
              "    }\n",
              "\n",
              "    this.imageObj = new Image();\n",
              "\n",
              "    this.context = undefined;\n",
              "    this.message = undefined;\n",
              "    this.canvas = undefined;\n",
              "    this.rubberband_canvas = undefined;\n",
              "    this.rubberband_context = undefined;\n",
              "    this.format_dropdown = undefined;\n",
              "\n",
              "    this.image_mode = 'full';\n",
              "\n",
              "    this.root = $('<div/>');\n",
              "    this._root_extra_style(this.root)\n",
              "    this.root.attr('style', 'display: inline-block');\n",
              "\n",
              "    $(parent_element).append(this.root);\n",
              "\n",
              "    this._init_header(this);\n",
              "    this._init_canvas(this);\n",
              "    this._init_toolbar(this);\n",
              "\n",
              "    var fig = this;\n",
              "\n",
              "    this.waiting = false;\n",
              "\n",
              "    this.ws.onopen =  function () {\n",
              "            fig.send_message(\"supports_binary\", {value: fig.supports_binary});\n",
              "            fig.send_message(\"send_image_mode\", {});\n",
              "            if (mpl.ratio != 1) {\n",
              "                fig.send_message(\"set_dpi_ratio\", {'dpi_ratio': mpl.ratio});\n",
              "            }\n",
              "            fig.send_message(\"refresh\", {});\n",
              "        }\n",
              "\n",
              "    this.imageObj.onload = function() {\n",
              "            if (fig.image_mode == 'full') {\n",
              "                // Full images could contain transparency (where diff images\n",
              "                // almost always do), so we need to clear the canvas so that\n",
              "                // there is no ghosting.\n",
              "                fig.context.clearRect(0, 0, fig.canvas.width, fig.canvas.height);\n",
              "            }\n",
              "            fig.context.drawImage(fig.imageObj, 0, 0);\n",
              "        };\n",
              "\n",
              "    this.imageObj.onunload = function() {\n",
              "        this.ws.close();\n",
              "    }\n",
              "\n",
              "    this.ws.onmessage = this._make_on_message_function(this);\n",
              "\n",
              "    this.ondownload = ondownload;\n",
              "}\n",
              "\n",
              "mpl.figure.prototype._init_header = function() {\n",
              "    var titlebar = $(\n",
              "        '<div class=\"ui-dialog-titlebar ui-widget-header ui-corner-all ' +\n",
              "        'ui-helper-clearfix\"/>');\n",
              "    var titletext = $(\n",
              "        '<div class=\"ui-dialog-title\" style=\"width: 100%; ' +\n",
              "        'text-align: center; padding: 3px;\"/>');\n",
              "    titlebar.append(titletext)\n",
              "    this.root.append(titlebar);\n",
              "    this.header = titletext[0];\n",
              "}\n",
              "\n",
              "\n",
              "\n",
              "mpl.figure.prototype._canvas_extra_style = function(canvas_div) {\n",
              "\n",
              "}\n",
              "\n",
              "\n",
              "mpl.figure.prototype._root_extra_style = function(canvas_div) {\n",
              "\n",
              "}\n",
              "\n",
              "mpl.figure.prototype._init_canvas = function() {\n",
              "    var fig = this;\n",
              "\n",
              "    var canvas_div = $('<div/>');\n",
              "\n",
              "    canvas_div.attr('style', 'position: relative; clear: both; outline: 0');\n",
              "\n",
              "    function canvas_keyboard_event(event) {\n",
              "        return fig.key_event(event, event['data']);\n",
              "    }\n",
              "\n",
              "    canvas_div.keydown('key_press', canvas_keyboard_event);\n",
              "    canvas_div.keyup('key_release', canvas_keyboard_event);\n",
              "    this.canvas_div = canvas_div\n",
              "    this._canvas_extra_style(canvas_div)\n",
              "    this.root.append(canvas_div);\n",
              "\n",
              "    var canvas = $('<canvas/>');\n",
              "    canvas.addClass('mpl-canvas');\n",
              "    canvas.attr('style', \"left: 0; top: 0; z-index: 0; outline: 0\")\n",
              "\n",
              "    this.canvas = canvas[0];\n",
              "    this.context = canvas[0].getContext(\"2d\");\n",
              "\n",
              "    var backingStore = this.context.backingStorePixelRatio ||\n",
              "\tthis.context.webkitBackingStorePixelRatio ||\n",
              "\tthis.context.mozBackingStorePixelRatio ||\n",
              "\tthis.context.msBackingStorePixelRatio ||\n",
              "\tthis.context.oBackingStorePixelRatio ||\n",
              "\tthis.context.backingStorePixelRatio || 1;\n",
              "\n",
              "    mpl.ratio = (window.devicePixelRatio || 1) / backingStore;\n",
              "\n",
              "    var rubberband = $('<canvas/>');\n",
              "    rubberband.attr('style', \"position: absolute; left: 0; top: 0; z-index: 1;\")\n",
              "\n",
              "    var pass_mouse_events = true;\n",
              "\n",
              "    canvas_div.resizable({\n",
              "        start: function(event, ui) {\n",
              "            pass_mouse_events = false;\n",
              "        },\n",
              "        resize: function(event, ui) {\n",
              "            fig.request_resize(ui.size.width, ui.size.height);\n",
              "        },\n",
              "        stop: function(event, ui) {\n",
              "            pass_mouse_events = true;\n",
              "            fig.request_resize(ui.size.width, ui.size.height);\n",
              "        },\n",
              "    });\n",
              "\n",
              "    function mouse_event_fn(event) {\n",
              "        if (pass_mouse_events)\n",
              "            return fig.mouse_event(event, event['data']);\n",
              "    }\n",
              "\n",
              "    rubberband.mousedown('button_press', mouse_event_fn);\n",
              "    rubberband.mouseup('button_release', mouse_event_fn);\n",
              "    // Throttle sequential mouse events to 1 every 20ms.\n",
              "    rubberband.mousemove('motion_notify', mouse_event_fn);\n",
              "\n",
              "    rubberband.mouseenter('figure_enter', mouse_event_fn);\n",
              "    rubberband.mouseleave('figure_leave', mouse_event_fn);\n",
              "\n",
              "    canvas_div.on(\"wheel\", function (event) {\n",
              "        event = event.originalEvent;\n",
              "        event['data'] = 'scroll'\n",
              "        if (event.deltaY < 0) {\n",
              "            event.step = 1;\n",
              "        } else {\n",
              "            event.step = -1;\n",
              "        }\n",
              "        mouse_event_fn(event);\n",
              "    });\n",
              "\n",
              "    canvas_div.append(canvas);\n",
              "    canvas_div.append(rubberband);\n",
              "\n",
              "    this.rubberband = rubberband;\n",
              "    this.rubberband_canvas = rubberband[0];\n",
              "    this.rubberband_context = rubberband[0].getContext(\"2d\");\n",
              "    this.rubberband_context.strokeStyle = \"#000000\";\n",
              "\n",
              "    this._resize_canvas = function(width, height) {\n",
              "        // Keep the size of the canvas, canvas container, and rubber band\n",
              "        // canvas in synch.\n",
              "        canvas_div.css('width', width)\n",
              "        canvas_div.css('height', height)\n",
              "\n",
              "        canvas.attr('width', width * mpl.ratio);\n",
              "        canvas.attr('height', height * mpl.ratio);\n",
              "        canvas.attr('style', 'width: ' + width + 'px; height: ' + height + 'px;');\n",
              "\n",
              "        rubberband.attr('width', width);\n",
              "        rubberband.attr('height', height);\n",
              "    }\n",
              "\n",
              "    // Set the figure to an initial 600x600px, this will subsequently be updated\n",
              "    // upon first draw.\n",
              "    this._resize_canvas(600, 600);\n",
              "\n",
              "    // Disable right mouse context menu.\n",
              "    $(this.rubberband_canvas).bind(\"contextmenu\",function(e){\n",
              "        return false;\n",
              "    });\n",
              "\n",
              "    function set_focus () {\n",
              "        canvas.focus();\n",
              "        canvas_div.focus();\n",
              "    }\n",
              "\n",
              "    window.setTimeout(set_focus, 100);\n",
              "}\n",
              "\n",
              "mpl.figure.prototype._init_toolbar = function() {\n",
              "    var fig = this;\n",
              "\n",
              "    var nav_element = $('<div/>')\n",
              "    nav_element.attr('style', 'width: 100%');\n",
              "    this.root.append(nav_element);\n",
              "\n",
              "    // Define a callback function for later on.\n",
              "    function toolbar_event(event) {\n",
              "        return fig.toolbar_button_onclick(event['data']);\n",
              "    }\n",
              "    function toolbar_mouse_event(event) {\n",
              "        return fig.toolbar_button_onmouseover(event['data']);\n",
              "    }\n",
              "\n",
              "    for(var toolbar_ind in mpl.toolbar_items) {\n",
              "        var name = mpl.toolbar_items[toolbar_ind][0];\n",
              "        var tooltip = mpl.toolbar_items[toolbar_ind][1];\n",
              "        var image = mpl.toolbar_items[toolbar_ind][2];\n",
              "        var method_name = mpl.toolbar_items[toolbar_ind][3];\n",
              "\n",
              "        if (!name) {\n",
              "            // put a spacer in here.\n",
              "            continue;\n",
              "        }\n",
              "        var button = $('<button/>');\n",
              "        button.addClass('ui-button ui-widget ui-state-default ui-corner-all ' +\n",
              "                        'ui-button-icon-only');\n",
              "        button.attr('role', 'button');\n",
              "        button.attr('aria-disabled', 'false');\n",
              "        button.click(method_name, toolbar_event);\n",
              "        button.mouseover(tooltip, toolbar_mouse_event);\n",
              "\n",
              "        var icon_img = $('<span/>');\n",
              "        icon_img.addClass('ui-button-icon-primary ui-icon');\n",
              "        icon_img.addClass(image);\n",
              "        icon_img.addClass('ui-corner-all');\n",
              "\n",
              "        var tooltip_span = $('<span/>');\n",
              "        tooltip_span.addClass('ui-button-text');\n",
              "        tooltip_span.html(tooltip);\n",
              "\n",
              "        button.append(icon_img);\n",
              "        button.append(tooltip_span);\n",
              "\n",
              "        nav_element.append(button);\n",
              "    }\n",
              "\n",
              "    var fmt_picker_span = $('<span/>');\n",
              "\n",
              "    var fmt_picker = $('<select/>');\n",
              "    fmt_picker.addClass('mpl-toolbar-option ui-widget ui-widget-content');\n",
              "    fmt_picker_span.append(fmt_picker);\n",
              "    nav_element.append(fmt_picker_span);\n",
              "    this.format_dropdown = fmt_picker[0];\n",
              "\n",
              "    for (var ind in mpl.extensions) {\n",
              "        var fmt = mpl.extensions[ind];\n",
              "        var option = $(\n",
              "            '<option/>', {selected: fmt === mpl.default_extension}).html(fmt);\n",
              "        fmt_picker.append(option)\n",
              "    }\n",
              "\n",
              "    // Add hover states to the ui-buttons\n",
              "    $( \".ui-button\" ).hover(\n",
              "        function() { $(this).addClass(\"ui-state-hover\");},\n",
              "        function() { $(this).removeClass(\"ui-state-hover\");}\n",
              "    );\n",
              "\n",
              "    var status_bar = $('<span class=\"mpl-message\"/>');\n",
              "    nav_element.append(status_bar);\n",
              "    this.message = status_bar[0];\n",
              "}\n",
              "\n",
              "mpl.figure.prototype.request_resize = function(x_pixels, y_pixels) {\n",
              "    // Request matplotlib to resize the figure. Matplotlib will then trigger a resize in the client,\n",
              "    // which will in turn request a refresh of the image.\n",
              "    this.send_message('resize', {'width': x_pixels, 'height': y_pixels});\n",
              "}\n",
              "\n",
              "mpl.figure.prototype.send_message = function(type, properties) {\n",
              "    properties['type'] = type;\n",
              "    properties['figure_id'] = this.id;\n",
              "    this.ws.send(JSON.stringify(properties));\n",
              "}\n",
              "\n",
              "mpl.figure.prototype.send_draw_message = function() {\n",
              "    if (!this.waiting) {\n",
              "        this.waiting = true;\n",
              "        this.ws.send(JSON.stringify({type: \"draw\", figure_id: this.id}));\n",
              "    }\n",
              "}\n",
              "\n",
              "\n",
              "mpl.figure.prototype.handle_save = function(fig, msg) {\n",
              "    var format_dropdown = fig.format_dropdown;\n",
              "    var format = format_dropdown.options[format_dropdown.selectedIndex].value;\n",
              "    fig.ondownload(fig, format);\n",
              "}\n",
              "\n",
              "\n",
              "mpl.figure.prototype.handle_resize = function(fig, msg) {\n",
              "    var size = msg['size'];\n",
              "    if (size[0] != fig.canvas.width || size[1] != fig.canvas.height) {\n",
              "        fig._resize_canvas(size[0], size[1]);\n",
              "        fig.send_message(\"refresh\", {});\n",
              "    };\n",
              "}\n",
              "\n",
              "mpl.figure.prototype.handle_rubberband = function(fig, msg) {\n",
              "    var x0 = msg['x0'] / mpl.ratio;\n",
              "    var y0 = (fig.canvas.height - msg['y0']) / mpl.ratio;\n",
              "    var x1 = msg['x1'] / mpl.ratio;\n",
              "    var y1 = (fig.canvas.height - msg['y1']) / mpl.ratio;\n",
              "    x0 = Math.floor(x0) + 0.5;\n",
              "    y0 = Math.floor(y0) + 0.5;\n",
              "    x1 = Math.floor(x1) + 0.5;\n",
              "    y1 = Math.floor(y1) + 0.5;\n",
              "    var min_x = Math.min(x0, x1);\n",
              "    var min_y = Math.min(y0, y1);\n",
              "    var width = Math.abs(x1 - x0);\n",
              "    var height = Math.abs(y1 - y0);\n",
              "\n",
              "    fig.rubberband_context.clearRect(\n",
              "        0, 0, fig.canvas.width, fig.canvas.height);\n",
              "\n",
              "    fig.rubberband_context.strokeRect(min_x, min_y, width, height);\n",
              "}\n",
              "\n",
              "mpl.figure.prototype.handle_figure_label = function(fig, msg) {\n",
              "    // Updates the figure title.\n",
              "    fig.header.textContent = msg['label'];\n",
              "}\n",
              "\n",
              "mpl.figure.prototype.handle_cursor = function(fig, msg) {\n",
              "    var cursor = msg['cursor'];\n",
              "    switch(cursor)\n",
              "    {\n",
              "    case 0:\n",
              "        cursor = 'pointer';\n",
              "        break;\n",
              "    case 1:\n",
              "        cursor = 'default';\n",
              "        break;\n",
              "    case 2:\n",
              "        cursor = 'crosshair';\n",
              "        break;\n",
              "    case 3:\n",
              "        cursor = 'move';\n",
              "        break;\n",
              "    }\n",
              "    fig.rubberband_canvas.style.cursor = cursor;\n",
              "}\n",
              "\n",
              "mpl.figure.prototype.handle_message = function(fig, msg) {\n",
              "    fig.message.textContent = msg['message'];\n",
              "}\n",
              "\n",
              "mpl.figure.prototype.handle_draw = function(fig, msg) {\n",
              "    // Request the server to send over a new figure.\n",
              "    fig.send_draw_message();\n",
              "}\n",
              "\n",
              "mpl.figure.prototype.handle_image_mode = function(fig, msg) {\n",
              "    fig.image_mode = msg['mode'];\n",
              "}\n",
              "\n",
              "mpl.figure.prototype.updated_canvas_event = function() {\n",
              "    // Called whenever the canvas gets updated.\n",
              "    this.send_message(\"ack\", {});\n",
              "}\n",
              "\n",
              "// A function to construct a web socket function for onmessage handling.\n",
              "// Called in the figure constructor.\n",
              "mpl.figure.prototype._make_on_message_function = function(fig) {\n",
              "    return function socket_on_message(evt) {\n",
              "        if (evt.data instanceof Blob) {\n",
              "            /* FIXME: We get \"Resource interpreted as Image but\n",
              "             * transferred with MIME type text/plain:\" errors on\n",
              "             * Chrome.  But how to set the MIME type?  It doesn't seem\n",
              "             * to be part of the websocket stream */\n",
              "            evt.data.type = \"image/png\";\n",
              "\n",
              "            /* Free the memory for the previous frames */\n",
              "            if (fig.imageObj.src) {\n",
              "                (window.URL || window.webkitURL).revokeObjectURL(\n",
              "                    fig.imageObj.src);\n",
              "            }\n",
              "\n",
              "            fig.imageObj.src = (window.URL || window.webkitURL).createObjectURL(\n",
              "                evt.data);\n",
              "            fig.updated_canvas_event();\n",
              "            fig.waiting = false;\n",
              "            return;\n",
              "        }\n",
              "        else if (typeof evt.data === 'string' && evt.data.slice(0, 21) == \"data:image/png;base64\") {\n",
              "            fig.imageObj.src = evt.data;\n",
              "            fig.updated_canvas_event();\n",
              "            fig.waiting = false;\n",
              "            return;\n",
              "        }\n",
              "\n",
              "        var msg = JSON.parse(evt.data);\n",
              "        var msg_type = msg['type'];\n",
              "\n",
              "        // Call the  \"handle_{type}\" callback, which takes\n",
              "        // the figure and JSON message as its only arguments.\n",
              "        try {\n",
              "            var callback = fig[\"handle_\" + msg_type];\n",
              "        } catch (e) {\n",
              "            console.log(\"No handler for the '\" + msg_type + \"' message type: \", msg);\n",
              "            return;\n",
              "        }\n",
              "\n",
              "        if (callback) {\n",
              "            try {\n",
              "                // console.log(\"Handling '\" + msg_type + \"' message: \", msg);\n",
              "                callback(fig, msg);\n",
              "            } catch (e) {\n",
              "                console.log(\"Exception inside the 'handler_\" + msg_type + \"' callback:\", e, e.stack, msg);\n",
              "            }\n",
              "        }\n",
              "    };\n",
              "}\n",
              "\n",
              "// from http://stackoverflow.com/questions/1114465/getting-mouse-location-in-canvas\n",
              "mpl.findpos = function(e) {\n",
              "    //this section is from http://www.quirksmode.org/js/events_properties.html\n",
              "    var targ;\n",
              "    if (!e)\n",
              "        e = window.event;\n",
              "    if (e.target)\n",
              "        targ = e.target;\n",
              "    else if (e.srcElement)\n",
              "        targ = e.srcElement;\n",
              "    if (targ.nodeType == 3) // defeat Safari bug\n",
              "        targ = targ.parentNode;\n",
              "\n",
              "    // jQuery normalizes the pageX and pageY\n",
              "    // pageX,Y are the mouse positions relative to the document\n",
              "    // offset() returns the position of the element relative to the document\n",
              "    var x = e.pageX - $(targ).offset().left;\n",
              "    var y = e.pageY - $(targ).offset().top;\n",
              "\n",
              "    return {\"x\": x, \"y\": y};\n",
              "};\n",
              "\n",
              "/*\n",
              " * return a copy of an object with only non-object keys\n",
              " * we need this to avoid circular references\n",
              " * http://stackoverflow.com/a/24161582/3208463\n",
              " */\n",
              "function simpleKeys (original) {\n",
              "  return Object.keys(original).reduce(function (obj, key) {\n",
              "    if (typeof original[key] !== 'object')\n",
              "        obj[key] = original[key]\n",
              "    return obj;\n",
              "  }, {});\n",
              "}\n",
              "\n",
              "mpl.figure.prototype.mouse_event = function(event, name) {\n",
              "    var canvas_pos = mpl.findpos(event)\n",
              "\n",
              "    if (name === 'button_press')\n",
              "    {\n",
              "        this.canvas.focus();\n",
              "        this.canvas_div.focus();\n",
              "    }\n",
              "\n",
              "    var x = canvas_pos.x * mpl.ratio;\n",
              "    var y = canvas_pos.y * mpl.ratio;\n",
              "\n",
              "    this.send_message(name, {x: x, y: y, button: event.button,\n",
              "                             step: event.step,\n",
              "                             guiEvent: simpleKeys(event)});\n",
              "\n",
              "    /* This prevents the web browser from automatically changing to\n",
              "     * the text insertion cursor when the button is pressed.  We want\n",
              "     * to control all of the cursor setting manually through the\n",
              "     * 'cursor' event from matplotlib */\n",
              "    event.preventDefault();\n",
              "    return false;\n",
              "}\n",
              "\n",
              "mpl.figure.prototype._key_event_extra = function(event, name) {\n",
              "    // Handle any extra behaviour associated with a key event\n",
              "}\n",
              "\n",
              "mpl.figure.prototype.key_event = function(event, name) {\n",
              "\n",
              "    // Prevent repeat events\n",
              "    if (name == 'key_press')\n",
              "    {\n",
              "        if (event.which === this._key)\n",
              "            return;\n",
              "        else\n",
              "            this._key = event.which;\n",
              "    }\n",
              "    if (name == 'key_release')\n",
              "        this._key = null;\n",
              "\n",
              "    var value = '';\n",
              "    if (event.ctrlKey && event.which != 17)\n",
              "        value += \"ctrl+\";\n",
              "    if (event.altKey && event.which != 18)\n",
              "        value += \"alt+\";\n",
              "    if (event.shiftKey && event.which != 16)\n",
              "        value += \"shift+\";\n",
              "\n",
              "    value += 'k';\n",
              "    value += event.which.toString();\n",
              "\n",
              "    this._key_event_extra(event, name);\n",
              "\n",
              "    this.send_message(name, {key: value,\n",
              "                             guiEvent: simpleKeys(event)});\n",
              "    return false;\n",
              "}\n",
              "\n",
              "mpl.figure.prototype.toolbar_button_onclick = function(name) {\n",
              "    if (name == 'download') {\n",
              "        this.handle_save(this, null);\n",
              "    } else {\n",
              "        this.send_message(\"toolbar_button\", {name: name});\n",
              "    }\n",
              "};\n",
              "\n",
              "mpl.figure.prototype.toolbar_button_onmouseover = function(tooltip) {\n",
              "    this.message.textContent = tooltip;\n",
              "};\n",
              "mpl.toolbar_items = [[\"Home\", \"Reset original view\", \"fa fa-home icon-home\", \"home\"], [\"Back\", \"Back to  previous view\", \"fa fa-arrow-left icon-arrow-left\", \"back\"], [\"Forward\", \"Forward to next view\", \"fa fa-arrow-right icon-arrow-right\", \"forward\"], [\"\", \"\", \"\", \"\"], [\"Pan\", \"Pan axes with left mouse, zoom with right\", \"fa fa-arrows icon-move\", \"pan\"], [\"Zoom\", \"Zoom to rectangle\", \"fa fa-square-o icon-check-empty\", \"zoom\"], [\"\", \"\", \"\", \"\"], [\"Download\", \"Download plot\", \"fa fa-floppy-o icon-save\", \"download\"]];\n",
              "\n",
              "mpl.extensions = [\"eps\", \"jpeg\", \"pdf\", \"png\", \"ps\", \"raw\", \"svg\", \"tif\"];\n",
              "\n",
              "mpl.default_extension = \"png\";var comm_websocket_adapter = function(comm) {\n",
              "    // Create a \"websocket\"-like object which calls the given IPython comm\n",
              "    // object with the appropriate methods. Currently this is a non binary\n",
              "    // socket, so there is still some room for performance tuning.\n",
              "    var ws = {};\n",
              "\n",
              "    ws.close = function() {\n",
              "        comm.close()\n",
              "    };\n",
              "    ws.send = function(m) {\n",
              "        //console.log('sending', m);\n",
              "        comm.send(m);\n",
              "    };\n",
              "    // Register the callback with on_msg.\n",
              "    comm.on_msg(function(msg) {\n",
              "        //console.log('receiving', msg['content']['data'], msg);\n",
              "        // Pass the mpl event to the overriden (by mpl) onmessage function.\n",
              "        ws.onmessage(msg['content']['data'])\n",
              "    });\n",
              "    return ws;\n",
              "}\n",
              "\n",
              "mpl.mpl_figure_comm = function(comm, msg) {\n",
              "    // This is the function which gets called when the mpl process\n",
              "    // starts-up an IPython Comm through the \"matplotlib\" channel.\n",
              "\n",
              "    var id = msg.content.data.id;\n",
              "    // Get hold of the div created by the display call when the Comm\n",
              "    // socket was opened in Python.\n",
              "    var element = $(\"#\" + id);\n",
              "    var ws_proxy = comm_websocket_adapter(comm)\n",
              "\n",
              "    function ondownload(figure, format) {\n",
              "        window.open(figure.imageObj.src);\n",
              "    }\n",
              "\n",
              "    var fig = new mpl.figure(id, ws_proxy,\n",
              "                           ondownload,\n",
              "                           element.get(0));\n",
              "\n",
              "    // Call onopen now - mpl needs it, as it is assuming we've passed it a real\n",
              "    // web socket which is closed, not our websocket->open comm proxy.\n",
              "    ws_proxy.onopen();\n",
              "\n",
              "    fig.parent_element = element.get(0);\n",
              "    fig.cell_info = mpl.find_output_cell(\"<div id='\" + id + \"'></div>\");\n",
              "    if (!fig.cell_info) {\n",
              "        console.error(\"Failed to find cell for figure\", id, fig);\n",
              "        return;\n",
              "    }\n",
              "\n",
              "    var output_index = fig.cell_info[2]\n",
              "    var cell = fig.cell_info[0];\n",
              "\n",
              "};\n",
              "\n",
              "mpl.figure.prototype.handle_close = function(fig, msg) {\n",
              "    var width = fig.canvas.width/mpl.ratio\n",
              "    fig.root.unbind('remove')\n",
              "\n",
              "    // Update the output cell to use the data from the current canvas.\n",
              "    fig.push_to_output();\n",
              "    var dataURL = fig.canvas.toDataURL();\n",
              "    // Re-enable the keyboard manager in IPython - without this line, in FF,\n",
              "    // the notebook keyboard shortcuts fail.\n",
              "    IPython.keyboard_manager.enable()\n",
              "    $(fig.parent_element).html('<img src=\"' + dataURL + '\" width=\"' + width + '\">');\n",
              "    fig.close_ws(fig, msg);\n",
              "}\n",
              "\n",
              "mpl.figure.prototype.close_ws = function(fig, msg){\n",
              "    fig.send_message('closing', msg);\n",
              "    // fig.ws.close()\n",
              "}\n",
              "\n",
              "mpl.figure.prototype.push_to_output = function(remove_interactive) {\n",
              "    // Turn the data on the canvas into data in the output cell.\n",
              "    var width = this.canvas.width/mpl.ratio\n",
              "    var dataURL = this.canvas.toDataURL();\n",
              "    this.cell_info[1]['text/html'] = '<img src=\"' + dataURL + '\" width=\"' + width + '\">';\n",
              "}\n",
              "\n",
              "mpl.figure.prototype.updated_canvas_event = function() {\n",
              "    // Tell IPython that the notebook contents must change.\n",
              "    IPython.notebook.set_dirty(true);\n",
              "    this.send_message(\"ack\", {});\n",
              "    var fig = this;\n",
              "    // Wait a second, then push the new image to the DOM so\n",
              "    // that it is saved nicely (might be nice to debounce this).\n",
              "    setTimeout(function () { fig.push_to_output() }, 1000);\n",
              "}\n",
              "\n",
              "mpl.figure.prototype._init_toolbar = function() {\n",
              "    var fig = this;\n",
              "\n",
              "    var nav_element = $('<div/>')\n",
              "    nav_element.attr('style', 'width: 100%');\n",
              "    this.root.append(nav_element);\n",
              "\n",
              "    // Define a callback function for later on.\n",
              "    function toolbar_event(event) {\n",
              "        return fig.toolbar_button_onclick(event['data']);\n",
              "    }\n",
              "    function toolbar_mouse_event(event) {\n",
              "        return fig.toolbar_button_onmouseover(event['data']);\n",
              "    }\n",
              "\n",
              "    for(var toolbar_ind in mpl.toolbar_items){\n",
              "        var name = mpl.toolbar_items[toolbar_ind][0];\n",
              "        var tooltip = mpl.toolbar_items[toolbar_ind][1];\n",
              "        var image = mpl.toolbar_items[toolbar_ind][2];\n",
              "        var method_name = mpl.toolbar_items[toolbar_ind][3];\n",
              "\n",
              "        if (!name) { continue; };\n",
              "\n",
              "        var button = $('<button class=\"btn btn-default\" href=\"#\" title=\"' + name + '\"><i class=\"fa ' + image + ' fa-lg\"></i></button>');\n",
              "        button.click(method_name, toolbar_event);\n",
              "        button.mouseover(tooltip, toolbar_mouse_event);\n",
              "        nav_element.append(button);\n",
              "    }\n",
              "\n",
              "    // Add the status bar.\n",
              "    var status_bar = $('<span class=\"mpl-message\" style=\"text-align:right; float: right;\"/>');\n",
              "    nav_element.append(status_bar);\n",
              "    this.message = status_bar[0];\n",
              "\n",
              "    // Add the close button to the window.\n",
              "    var buttongrp = $('<div class=\"btn-group inline pull-right\"></div>');\n",
              "    var button = $('<button class=\"btn btn-mini btn-primary\" href=\"#\" title=\"Stop Interaction\"><i class=\"fa fa-power-off icon-remove icon-large\"></i></button>');\n",
              "    button.click(function (evt) { fig.handle_close(fig, {}); } );\n",
              "    button.mouseover('Stop Interaction', toolbar_mouse_event);\n",
              "    buttongrp.append(button);\n",
              "    var titlebar = this.root.find($('.ui-dialog-titlebar'));\n",
              "    titlebar.prepend(buttongrp);\n",
              "}\n",
              "\n",
              "mpl.figure.prototype._root_extra_style = function(el){\n",
              "    var fig = this\n",
              "    el.on(\"remove\", function(){\n",
              "\tfig.close_ws(fig, {});\n",
              "    });\n",
              "}\n",
              "\n",
              "mpl.figure.prototype._canvas_extra_style = function(el){\n",
              "    // this is important to make the div 'focusable\n",
              "    el.attr('tabindex', 0)\n",
              "    // reach out to IPython and tell the keyboard manager to turn it's self\n",
              "    // off when our div gets focus\n",
              "\n",
              "    // location in version 3\n",
              "    if (IPython.notebook.keyboard_manager) {\n",
              "        IPython.notebook.keyboard_manager.register_events(el);\n",
              "    }\n",
              "    else {\n",
              "        // location in version 2\n",
              "        IPython.keyboard_manager.register_events(el);\n",
              "    }\n",
              "\n",
              "}\n",
              "\n",
              "mpl.figure.prototype._key_event_extra = function(event, name) {\n",
              "    var manager = IPython.notebook.keyboard_manager;\n",
              "    if (!manager)\n",
              "        manager = IPython.keyboard_manager;\n",
              "\n",
              "    // Check for shift+enter\n",
              "    if (event.shiftKey && event.which == 13) {\n",
              "        this.canvas_div.blur();\n",
              "        // select the cell after this one\n",
              "        var index = IPython.notebook.find_cell_index(this.cell_info[0]);\n",
              "        IPython.notebook.select(index + 1);\n",
              "    }\n",
              "}\n",
              "\n",
              "mpl.figure.prototype.handle_save = function(fig, msg) {\n",
              "    fig.ondownload(fig, null);\n",
              "}\n",
              "\n",
              "\n",
              "mpl.find_output_cell = function(html_output) {\n",
              "    // Return the cell and output element which can be found *uniquely* in the notebook.\n",
              "    // Note - this is a bit hacky, but it is done because the \"notebook_saving.Notebook\"\n",
              "    // IPython event is triggered only after the cells have been serialised, which for\n",
              "    // our purposes (turning an active figure into a static one), is too late.\n",
              "    var cells = IPython.notebook.get_cells();\n",
              "    var ncells = cells.length;\n",
              "    for (var i=0; i<ncells; i++) {\n",
              "        var cell = cells[i];\n",
              "        if (cell.cell_type === 'code'){\n",
              "            for (var j=0; j<cell.output_area.outputs.length; j++) {\n",
              "                var data = cell.output_area.outputs[j];\n",
              "                if (data.data) {\n",
              "                    // IPython >= 3 moved mimebundle to data attribute of output\n",
              "                    data = data.data;\n",
              "                }\n",
              "                if (data['text/html'] == html_output) {\n",
              "                    return [cell, data, j];\n",
              "                }\n",
              "            }\n",
              "        }\n",
              "    }\n",
              "}\n",
              "\n",
              "// Register the function which deals with the matplotlib target/channel.\n",
              "// The kernel may be null if the page has been refreshed.\n",
              "if (IPython.notebook.kernel != null) {\n",
              "    IPython.notebook.kernel.comm_manager.register_target('matplotlib', mpl.mpl_figure_comm);\n",
              "}\n"
            ],
            "text/plain": [
              "<IPython.core.display.Javascript object>"
            ]
          },
          "metadata": {
            "tags": []
          }
        },
        {
          "output_type": "display_data",
          "data": {
            "text/html": [
              "<img src=\"data:image/png;base64,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\" width=\"640\">"
            ],
            "text/plain": [
              "<IPython.core.display.HTML object>"
            ]
          },
          "metadata": {
            "tags": []
          }
        }
      ]
    },
    {
      "cell_type": "code",
      "metadata": {
        "collapsed": true,
        "id": "IVpRUSo7bjGB"
      },
      "source": [
        ""
      ],
      "execution_count": null,
      "outputs": []
    }
  ]
}